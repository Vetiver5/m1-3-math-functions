{
 "cells": [
  {
   "cell_type": "code",
   "execution_count": 67,
   "metadata": {},
   "outputs": [],
   "source": [
    "#Functions workshop Anne Cloutier GitHub: Vetiver5"
   ]
  },
  {
   "cell_type": "code",
   "execution_count": 68,
   "metadata": {},
   "outputs": [],
   "source": [
    "import math as math\n",
    "import numpy as np\n",
    "import numpy.polynomial.polynomial as npp"
   ]
  },
  {
   "cell_type": "markdown",
   "metadata": {
    "colab_type": "text",
    "id": "aX9oCHrXqhIj"
   },
   "source": [
    "# 1. Math Drills\n",
    "\n",
    "Give an example of a binary relation on a set which is\n",
    "\n",
    "1. Reflexive and symmetric, but not transitive  \n",
    "2. Reflexive, but neither symmetric nor transitive  \n",
    "3. Symmetric, but neither reflexive nor transitive  \n",
    "4. Transitive, but neither reflexive nor symmetric  \n",
    "\n",
    "Recall the definitions from the lectures if you need to!"
   ]
  },
  {
   "cell_type": "code",
   "execution_count": 71,
   "metadata": {},
   "outputs": [],
   "source": [
    "#Reflexive and symmetric, but not transitive\n",
    "#1:A={(x,x),(y,y),(x,y),(y,x)}\n",
    "    \n",
    "#Reflexive, but neither symmetric nor transitive   \n",
    "#2:A={(x,x),(y,y),(z,z),(x,y)(y,z)}\n",
    "    \n",
    "#Symmetric, but neither reflexive nor transitive   \n",
    "#3:A ={(x,y)(y,z)}\n",
    "    \n",
    "# Transitive, but neither reflexive nor symmetric  \n",
    "#4:A ={(x,y),(y,z),(x,z)}"
   ]
  },
  {
   "cell_type": "markdown",
   "metadata": {},
   "source": [
    "# Exercise 2: A bunch of Math!\n",
    "\n",
    "## Polynomial\n",
    "\n",
    "Consider the polynomial\n",
    "\n",
    "$$\n",
    "p(x)\n",
    "= a_0 + a_1 x + a_2 x^2 + \\cdots a_n x^n\n",
    "= \\sum_{i=0}^n a_i x^i \\tag{1}\n",
    "$$\n",
    "\n",
    "Write a function `p` such that `p(x, coeff)` that computes the value in given a point `x` and a list of coefficients `coeff`.\n",
    "\n",
    "```\n",
    "p(5, [1, 1]) = 1 + 5 = 6\n",
    "p(5, [2, 1, 1]) = 2 + 5 + 25 = 32\n",
    "```"
   ]
  },
  {
   "cell_type": "code",
   "execution_count": 72,
   "metadata": {},
   "outputs": [],
   "source": [
    "#Using Horner's Rule, evaluating the polynomial backward\n",
    "\n",
    "def poly(x,lst):\n",
    "    total = 0\n",
    "    for a in reversed(lst):\n",
    "        total = total*x+a\n",
    "    return total"
   ]
  },
  {
   "cell_type": "code",
   "execution_count": 73,
   "metadata": {},
   "outputs": [
    {
     "data": {
      "text/plain": [
       "6"
      ]
     },
     "execution_count": 73,
     "metadata": {},
     "output_type": "execute_result"
    }
   ],
   "source": [
    "poly(5, [1,1])"
   ]
  },
  {
   "cell_type": "code",
   "execution_count": 74,
   "metadata": {},
   "outputs": [
    {
     "data": {
      "text/plain": [
       "32"
      ]
     },
     "execution_count": 74,
     "metadata": {},
     "output_type": "execute_result"
    }
   ],
   "source": [
    "poly(5,[2,1,1])"
   ]
  },
  {
   "cell_type": "markdown",
   "metadata": {},
   "source": [
    "# Variance\n",
    "\n",
    "Define a function named `var` that takes a list of numbers and computes the variance. The variance is:\n",
    "\n",
    "$$variance(x) = \\frac{∑_i^N(x_i − average(x))^2}{N-1}$$\n",
    "\n",
    "Don't cheat and use `numpy.var`! You should only use that function to test that your function is correct"
   ]
  },
  {
   "cell_type": "code",
   "execution_count": 75,
   "metadata": {
    "scrolled": true
   },
   "outputs": [
    {
     "name": "stdout",
     "output_type": "stream",
     "text": [
      "The variance value in this list is: 8.0\n"
     ]
    }
   ],
   "source": [
    "list = {1,3,5,7,9}\n",
    "\n",
    "avg = sum(list) / len(list)\n",
    "variance = sum((x-avg)**2 for x in list) / len(list)\n",
    "print(\"The variance value in this list is:\" , variance)"
   ]
  },
  {
   "cell_type": "markdown",
   "metadata": {},
   "source": [
    "# RMSE\n",
    "\n",
    "Calculate the root mean squared error (RMSE) of a machine learning model's output. The function takes in two lists: one with actual values, one with predictions. The formula for RMSE is:\n",
    "\n",
    "$$RMSE(y_1, y_2) = \\sqrt{\\dfrac{1}{N} \\sum_{i=1}^N (y_{1i} - y_{2i})^2}$$\n",
    "\n",
    "```\n",
    "    rmse([1, 2], [1, 2]) = 0\n",
    "    rmse([1, 2, 3], [3, 2, 1]) = 1.63\n",
    "```\n",
    "\n",
    "You can use \n",
    "\n",
    "```\n",
    "sklearn.metrics.mean_squared_error(y_actual, y_predicted, squared=False)\n",
    "```\n",
    "\n",
    "To test your function"
   ]
  },
  {
   "cell_type": "code",
   "execution_count": 81,
   "metadata": {},
   "outputs": [],
   "source": [
    "import numpy as np\n",
    "import math\n",
    "\n",
    "def rmse(predictions,targets):\n",
    "    return np.sqrt(np.mean((predictions-targets)**2))"
   ]
  },
  {
   "cell_type": "code",
   "execution_count": 82,
   "metadata": {},
   "outputs": [
    {
     "data": {
      "text/plain": [
       "1.632993161855452"
      ]
     },
     "execution_count": 82,
     "metadata": {},
     "output_type": "execute_result"
    }
   ],
   "source": [
    "rmse(np.array([1,2,3]),np.array([3,2,1]))"
   ]
  },
  {
   "cell_type": "code",
   "execution_count": 83,
   "metadata": {},
   "outputs": [
    {
     "data": {
      "text/plain": [
       "1.632993161855452"
      ]
     },
     "execution_count": 83,
     "metadata": {},
     "output_type": "execute_result"
    }
   ],
   "source": [
    "import sklearn\n",
    "from sklearn import metrics\n",
    "\n",
    "sklearn.metrics.mean_squared_error([1,2,3],[3,2,1], squared=False)"
   ]
  },
  {
   "cell_type": "markdown",
   "metadata": {},
   "source": [
    "# Jaccard Similarity\n",
    "\n",
    "The Jaccard similarity between two sets is the size of intersection divided by the size of union. Write a function that computes it:\n",
    "\n",
    "$$jaccard(A, B) = \\dfrac{|A \\cap B|}{|A \\cup B|}$$\n",
    "\n",
    "\n",
    "```\n",
    "jaccard({'a', 'b', 'c'}, {'a', 'd'}) = 1 / 4\n",
    "```\n",
    "\n"
   ]
  },
  {
   "cell_type": "code",
   "execution_count": 84,
   "metadata": {},
   "outputs": [
    {
     "name": "stdout",
     "output_type": "stream",
     "text": [
      "The Jaccard index of this list is:  0.25\n"
     ]
    }
   ],
   "source": [
    "def jaccard(list_a, list_b):\n",
    "    set_1 = set(list_a)\n",
    "    set_2 = set(list_b)\n",
    "    return len(set_1.intersection(set_2)) / len(set_1.union(set_2))\n",
    "\n",
    "list_a = ['a','b','c']\n",
    "list_b = ['a', 'd']\n",
    "\n",
    "jaccard = jaccard(list_a,list_b)\n",
    "\n",
    "print(\"The Jaccard index of this list is: \", jaccard)"
   ]
  },
  {
   "cell_type": "markdown",
   "metadata": {},
   "source": [
    "# Exercise 3\n",
    "\n",
    "First, write a function that returns one realization of the following random device\n",
    "\n",
    "1. Flip an unbiased coin 10 times.  \n",
    "1. If a head occurs `k` or more times consecutively within this sequence at least once, pay one dollar.  \n",
    "1. If not, pay nothing.  \n",
    "\n",
    "\n",
    "Second, write another function that does the same task except that the second rule of the above random device becomes\n",
    "\n",
    "- If a head occurs `k` or more times within this sequence, pay one dollar.  \n",
    "\n",
    "\n",
    "Use no import besides `from numpy.random import uniform`."
   ]
  },
  {
   "cell_type": "code",
   "execution_count": 124,
   "metadata": {},
   "outputs": [
    {
     "name": "stdout",
     "output_type": "stream",
     "text": [
      "No cigar!\n",
      "No cigar!\n",
      "No cigar!\n",
      "No cigar!\n",
      "No cigar!\n",
      "No cigar!\n",
      "No cigar!\n",
      "No cigar!\n"
     ]
    }
   ],
   "source": [
    "#1: pay $1 if 10 coin flips result at least 2 consecutive heads\n",
    "\n",
    "import numpy as np\n",
    "from numpy.random import random\n",
    "\n",
    "#random uniform flip values\n",
    "x = np.random.uniform(0,2,10).tolist()\n",
    "\n",
    "#heads results\n",
    "k = 0\n",
    "\n",
    "for i in range(len(x)-2):\n",
    "    if x[i] == 1 and x[i + 1] == 1:\n",
    "        k = k + 1\n",
    "    if k >=1:\n",
    "        print(\"Pay me a dollar!\")\n",
    "    else:\n",
    "        print(\"No cigar!\")"
   ]
  },
  {
   "cell_type": "code",
   "execution_count": 123,
   "metadata": {},
   "outputs": [
    {
     "data": {
      "text/plain": [
       "0"
      ]
     },
     "execution_count": 123,
     "metadata": {},
     "output_type": "execute_result"
    }
   ],
   "source": [
    "#Pay a dollar if heads occur one or more times\n",
    "\n",
    "import numpy as np\n",
    "from numpy.random import random\n",
    "\n",
    "def flip(x):\n",
    "    paid = 0\n",
    "    count = 0\n",
    "    for i in range(x):\n",
    "        u = np.random.uniform()\n",
    "        count = count + (1 if u < 0.5 else 0)\n",
    "        if count == x:\n",
    "            paid += 1\n",
    "    return paid\n",
    "    \n",
    "flip(10)"
   ]
  },
  {
   "cell_type": "code",
   "execution_count": 68,
   "metadata": {},
   "outputs": [],
   "source": [
    "def experiment(n):\n",
    "    successes = 0\n",
    "    for t in range(10):\n",
    "        successes += int(test())\n",
    "    print (successes)\n",
    "    print (n)\n",
    "    print (successes/n)"
   ]
  },
  {
   "cell_type": "raw",
   "metadata": {},
   "source": [
    "experiment(10)"
   ]
  },
  {
   "cell_type": "markdown",
   "metadata": {},
   "source": [
    "# Exercise 4: Logistic Map fixed point\n",
    "\n",
    "The **Logistic Map** is a famous function from Chaos Theory which is defined as:\n",
    "\n",
    "$$x_{t+1} = r \\cdot x_t(1−x_t)$$\n",
    "\n",
    "with the conditions:\n",
    "\n",
    "$$x_0 ∈ [0,1], r ∈[0,4]$$\n",
    "\n",
    "Write a lambda $f = logistic(x, r)$, that's successively applied to itself $n$ times through a second function `logistic_n_times(x0, f, r, n)` with the inital point $X_0$\n",
    "\n",
    "Make a few runs of this for various values of `x0` and `r`. Answer the following:\n",
    "\n",
    "- Can you find a fixed point? \n",
    "\n",
    "- At what values of `r` are there fixed points? \n",
    "\n",
    "- Are there any ranges of input for which the function is an attractor?"
   ]
  },
  {
   "cell_type": "code",
   "execution_count": 146,
   "metadata": {},
   "outputs": [],
   "source": [
    "from random import randint\n",
    "\n",
    "f = lambda x,r : r*x*(1-x)\n",
    "\n",
    "def logistic_n_times(x0,f,r,n):\n",
    "    for i in range(n):\n",
    "        x0 = f(x0,r)\n",
    "    print(x0)\n",
    "    return x0\n",
    "\n",
    "#Q1: There are multiple fixed points\n",
    "#Q2: There are fixed points at 0 and 4.9|0.5\n",
    "#Q3: In the range of r = 4"
   ]
  },
  {
   "cell_type": "code",
   "execution_count": 144,
   "metadata": {},
   "outputs": [
    {
     "name": "stdout",
     "output_type": "stream",
     "text": [
      "0\n",
      "0\n",
      "0.49999999999999994\n",
      "0.49999999999999994\n",
      "0.5\n",
      "0.5\n",
      "0.5\n",
      "0.5\n",
      "0.5\n",
      "0.5\n",
      "0.5\n",
      "0.5\n",
      "0.5\n",
      "0.5\n",
      "0.5\n",
      "0.5\n",
      "0.49999999999999994\n",
      "0.49999999999999994\n"
     ]
    }
   ],
   "source": [
    "print(logistic_n_times(0,f,2,10))\n",
    "print(logistic_n_times(0.3,f,2,10))\n",
    "print(logistic_n_times(0.6,f,2,10))\n",
    "print(logistic_n_times(0.9,f,2,10))\n",
    "print(logistic_n_times(0.12,f,2,10))\n",
    "print(logistic_n_times(0.15,f,2,10))\n",
    "print(logistic_n_times(0.18,f,2,10))\n",
    "print(logistic_n_times(0.21,f,2,10))\n",
    "print(logistic_n_times(0.24,f,2,10))"
   ]
  },
  {
   "cell_type": "code",
   "execution_count": 145,
   "metadata": {},
   "outputs": [
    {
     "name": "stdout",
     "output_type": "stream",
     "text": [
      "0\n",
      "0\n",
      "0.043421853445318986\n",
      "0.043421853445318986\n",
      "0.297859732624244\n",
      "0.297859732624244\n",
      "0.1478365599132853\n",
      "0.1478365599132853\n",
      "0.6599870782572423\n",
      "0.6599870782572423\n",
      "0.842604822848354\n",
      "0.842604822848354\n",
      "0.3032148874741396\n",
      "0.3032148874741396\n",
      "0.23982551582119446\n",
      "0.23982551582119446\n",
      "0.14170007558487893\n",
      "0.14170007558487893\n"
     ]
    }
   ],
   "source": [
    "print(logistic_n_times(0,f,4,10))\n",
    "print(logistic_n_times(0.3,f,4,10))\n",
    "print(logistic_n_times(0.6,f,4,10))\n",
    "print(logistic_n_times(0.9,f,4,10))\n",
    "print(logistic_n_times(0.12,f,4,10))\n",
    "print(logistic_n_times(0.15,f,4,10))\n",
    "print(logistic_n_times(0.18,f,4,10))\n",
    "print(logistic_n_times(0.21,f,4,10))\n",
    "print(logistic_n_times(0.24,f,4,10))"
   ]
  },
  {
   "cell_type": "markdown",
   "metadata": {},
   "source": [
    "# Exercise 5 (stretch): Famous Chaos Theory Plot \n",
    "\n",
    "There is a famous plot in chaos theory of the logistic map that relates values of the attractors in $x_t$ for values of $r$, detailing where the function tends to \"end up\" for each value of $r$.\n",
    "\n",
    "<img src=\"logistic map.png\" style=\"width: 400px;\">\n",
    "\n",
    "Reproduce this plot using the `matplotlib` package.\n",
    "\n",
    "**Hint:** Produce samples from the function to fill arrays on the x and y axis!\n",
    "\n",
    "**Hint:** Take the final 50 values in a series of data points produced by the function!"
   ]
  },
  {
   "cell_type": "code",
   "execution_count": null,
   "metadata": {},
   "outputs": [],
   "source": []
  }
 ],
 "metadata": {
  "colab": {
   "authorship_tag": "ABX9TyO6ouX4mUPsrtNoh84NFVy3",
   "collapsed_sections": [],
   "name": "Workshop Functions.ipynb",
   "provenance": []
  },
  "kernelspec": {
   "display_name": "Python 3",
   "language": "python",
   "name": "python3"
  },
  "language_info": {
   "codemirror_mode": {
    "name": "ipython",
    "version": 3
   },
   "file_extension": ".py",
   "mimetype": "text/x-python",
   "name": "python",
   "nbconvert_exporter": "python",
   "pygments_lexer": "ipython3",
   "version": "3.8.3"
  }
 },
 "nbformat": 4,
 "nbformat_minor": 4
}
